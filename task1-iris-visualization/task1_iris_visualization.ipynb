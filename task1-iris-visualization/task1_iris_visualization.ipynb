

import pandas as pd
import seaborn as sns
import matplotlib.pyplot as plt

# Load the dataset
iris = sns.load_dataset('iris')

# Inspect the dataset
print("Shape of dataset:", iris.shape)
print("Column names:", iris.columns)
print(iris.head())

# Dataset Info and Description
print(iris.info())
print(iris.describe())

# Scatter Plot Matrix
sns.pairplot(iris, hue='species')
plt.suptitle("Pairplot of Iris Dataset", y=1.02)
plt.show()

# Histograms
iris.hist(figsize=(10, 8))
plt.suptitle("Histogram of Iris Features")
plt.show()

# Box Plots
plt.figure(figsize=(10, 6))
sns.boxplot(data=iris)
plt.title("Boxplot of Iris Features")
plt.show()
