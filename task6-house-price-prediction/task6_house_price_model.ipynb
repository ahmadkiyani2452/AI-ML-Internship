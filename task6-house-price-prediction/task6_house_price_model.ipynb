# Task 6: House Price Prediction

import pandas as pd
import matplotlib.pyplot as plt
from sklearn.model_selection import train_test_split
from sklearn.linear_model import LinearRegression
from sklearn.metrics import mean_absolute_error, mean_squared_error
import sklearn

# Check sklearn version
print("scikit-learn version:", sklearn.__version__)

# Load the dataset
df = pd.read_csv('housing.csv')  # Make sure this file exists in your working directory

# Select only numeric columns
df = df.select_dtypes(include=['float64', 'int64'])

# Drop rows with missing values
df = df.dropna()

# Define features (X) and target (y)
X = df.drop('price', axis=1)
y = df['price']

# Split into training and test datasets
X_train, X_test, y_train, y_test = train_test_split(X, y, test_size=0.2, random_state=42)

# Train the Linear Regression model
model = LinearRegression()
model.fit(X_train, y_train)

# Predict on test set
predictions = model.predict(X_test)

# Evaluate the model
mae = mean_absolute_error(y_test, predictions)
rmse = mean_squared_error(y_test, predictions) ** 0.5  # Manually compute RMSE

# Print metrics
print("Mean Absolute Error (MAE):", mae)
print("Root Mean Squared Error (RMSE):", rmse)

# Plot actual vs predicted prices
plt.figure(figsize=(8, 6))
plt.scatter(y_test, predictions, alpha=0.7, color='blue')
plt.xlabel("Actual Price")
plt.ylabel("Predicted Price")
plt.title("Actual vs Predicted House Prices")
plt.grid(True)
plt.show()
